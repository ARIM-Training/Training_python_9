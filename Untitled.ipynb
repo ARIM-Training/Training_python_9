{
 "cells": [
  {
   "cell_type": "code",
   "execution_count": null,
   "id": "1a22d3e9-ac30-4d86-8c79-e82c38e7f948",
   "metadata": {},
   "outputs": [],
   "source": [
    "%pip list"
   ]
  },
  {
   "cell_type": "code",
   "execution_count": null,
   "id": "527aeed2-a6bf-4005-801b-ca3ceacca046",
   "metadata": {},
   "outputs": [],
   "source": [
    "print ('AAA')"
   ]
  },
  {
   "cell_type": "code",
   "execution_count": null,
   "id": "ae08ea17-10b9-4ae1-a533-cc66c7752e98",
   "metadata": {},
   "outputs": [],
   "source": []
  }
 ],
 "metadata": {
  "kernelspec": {
   "display_name": "Python 3 (ipykernel)",
   "language": "python",
   "name": "python3"
  },
  "language_info": {
   "name": ""
  }
 },
 "nbformat": 4,
 "nbformat_minor": 5
}
